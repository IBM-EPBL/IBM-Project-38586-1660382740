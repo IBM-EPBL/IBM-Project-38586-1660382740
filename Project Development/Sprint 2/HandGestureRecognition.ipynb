{
 "cells": [
  {
   "cell_type": "code",
   "execution_count": null,
   "metadata": {
    "id": "ZKTPqbdKKbtS"
   },
   "outputs": [],
   "source": [
    "!unzip HandGestureDataset.zip"
   ]
  },
  {
   "cell_type": "code",
   "execution_count": 11,
   "metadata": {},
   "outputs": [
    {
     "name": "stdout",
     "output_type": "stream",
     "text": [
      "Defaulting to user installation because normal site-packages is not writeable\n",
      "\u001b[33mWARNING: Retrying (Retry(total=4, connect=None, read=None, redirect=None, status=None)) after connection broken by 'NewConnectionError('<pip._vendor.urllib3.connection.HTTPSConnection object at 0x7f3150197310>: Failed to establish a new connection: [Errno -3] Temporary failure in name resolution')': /simple/scipy/\u001b[0m\u001b[33m\n",
      "\u001b[0m\u001b[33mWARNING: Retrying (Retry(total=3, connect=None, read=None, redirect=None, status=None)) after connection broken by 'NewConnectionError('<pip._vendor.urllib3.connection.HTTPSConnection object at 0x7f31505b8c70>: Failed to establish a new connection: [Errno -3] Temporary failure in name resolution')': /simple/scipy/\u001b[0m\u001b[33m\n",
      "\u001b[0m\u001b[33mWARNING: Retrying (Retry(total=2, connect=None, read=None, redirect=None, status=None)) after connection broken by 'NewConnectionError('<pip._vendor.urllib3.connection.HTTPSConnection object at 0x7f31505b8a90>: Failed to establish a new connection: [Errno -3] Temporary failure in name resolution')': /simple/scipy/\u001b[0m\u001b[33m\n",
      "\u001b[0m\u001b[33mWARNING: Retrying (Retry(total=1, connect=None, read=None, redirect=None, status=None)) after connection broken by 'NewConnectionError('<pip._vendor.urllib3.connection.HTTPSConnection object at 0x7f31505b8fa0>: Failed to establish a new connection: [Errno -3] Temporary failure in name resolution')': /simple/scipy/\u001b[0m\u001b[33m\n",
      "\u001b[0m\u001b[33mWARNING: Retrying (Retry(total=0, connect=None, read=None, redirect=None, status=None)) after connection broken by 'NewConnectionError('<pip._vendor.urllib3.connection.HTTPSConnection object at 0x7f31501a98e0>: Failed to establish a new connection: [Errno -3] Temporary failure in name resolution')': /simple/scipy/\u001b[0m\u001b[33m\n",
      "\u001b[0mCollecting SciPy\n",
      "  Downloading scipy-1.9.0-cp39-cp39-manylinux_2_17_x86_64.manylinux2014_x86_64.whl (43.9 MB)\n",
      "\u001b[2K     \u001b[38;2;114;156;31m━━━━━━━━━━━━━━━━━━━━━━━━━━━━━━━━━━━━━━━\u001b[0m \u001b[32m43.9/43.9 MB\u001b[0m \u001b[31m414.2 kB/s\u001b[0m eta \u001b[36m0:00:00\u001b[0mm eta \u001b[36m0:00:01\u001b[0m[36m0:00:03\u001b[0m\n",
      "\u001b[?25hRequirement already satisfied: numpy<1.25.0,>=1.18.5 in /home/whitedevil/.local/lib/python3.9/site-packages (from SciPy) (1.19.5)\n",
      "Installing collected packages: SciPy\n",
      "Successfully installed SciPy-1.9.0\n"
     ]
    }
   ],
   "source": [
    "!python3.9 -m pip install SciPy"
   ]
  },
  {
   "cell_type": "markdown",
   "metadata": {
    "id": "-8FW1BH1JFsE"
   },
   "source": [
    "# Image Preprocessing"
   ]
  },
  {
   "cell_type": "code",
   "execution_count": 1,
   "metadata": {
    "id": "pqddxiIZI04-"
   },
   "outputs": [],
   "source": [
    "from keras.preprocessing.image import ImageDataGenerator"
   ]
  },
  {
   "cell_type": "markdown",
   "metadata": {
    "id": "kdSWxNuhJh8L"
   },
   "source": [
    "## Setting up Image Augmentation"
   ]
  },
  {
   "cell_type": "code",
   "execution_count": 2,
   "metadata": {
    "id": "mJFzOvSJJE93"
   },
   "outputs": [],
   "source": [
    "# Training Data Generator\n",
    "trainDataGenerator = ImageDataGenerator(rescale = 1./255, shear_range = .2, zoom_range = .2, horizontal_flip = True)\n",
    "\n",
    "# Testing Data Generator\n",
    "testDataGenerator = ImageDataGenerator(rescale = 1./255)"
   ]
  },
  {
   "cell_type": "markdown",
   "metadata": {
    "id": "ktm79pfdKLue"
   },
   "source": [
    "## Generating Augmented Images"
   ]
  },
  {
   "cell_type": "code",
   "execution_count": 3,
   "metadata": {
    "colab": {
     "base_uri": "https://localhost:8080/"
    },
    "id": "GU-f7GblJ13j",
    "outputId": "0046db2d-fe2c-451f-f98c-9e81a988106f"
   },
   "outputs": [
    {
     "name": "stdout",
     "output_type": "stream",
     "text": [
      "Found 600 images belonging to 6 classes.\n",
      "Found 30 images belonging to 6 classes.\n"
     ]
    }
   ],
   "source": [
    "# Generating training images\n",
    "trainInputImage = trainDataGenerator.flow_from_directory(\n",
    "                                                          directory = 'Dataset/train', \n",
    "                                                          target_size = (64, 64),\n",
    "                                                          batch_size = 5,\n",
    "                                                          color_mode = 'grayscale',\n",
    "                                                          class_mode = 'categorical'\n",
    "                                                        )\n",
    "\n",
    "# Generating test images\n",
    "testInputImage = trainDataGenerator.flow_from_directory(\n",
    "                                                          directory = 'Dataset/test', \n",
    "                                                          target_size = (64, 64),\n",
    "                                                          batch_size = 5,\n",
    "                                                          color_mode = 'grayscale',\n",
    "                                                          class_mode = 'categorical'\n",
    "                                                        )"
   ]
  },
  {
   "cell_type": "markdown",
   "metadata": {
    "id": "-_pklvgsLnQu"
   },
   "source": [
    "# Model Building"
   ]
  },
  {
   "cell_type": "code",
   "execution_count": 4,
   "metadata": {
    "id": "bNpea0hHMFcW"
   },
   "outputs": [],
   "source": [
    "import numpy as np\n",
    "import tensorflow as tf\n",
    "from tensorflow.keras.models import Sequential\n",
    "from tensorflow.keras import layers\n",
    "from tensorflow.keras.layers import Dense, Flatten, Conv2D, MaxPooling2D"
   ]
  },
  {
   "cell_type": "markdown",
   "metadata": {
    "id": "bn7d6mwdMvbc"
   },
   "source": [
    "## Creating a Deep Learning Model"
   ]
  },
  {
   "cell_type": "code",
   "execution_count": 5,
   "metadata": {
    "id": "GgMqDbtpMcRU"
   },
   "outputs": [],
   "source": [
    "model = Sequential()"
   ]
  },
  {
   "cell_type": "markdown",
   "metadata": {
    "id": "g3et2d9sNIkK"
   },
   "source": [
    "## Adding Layers"
   ]
  },
  {
   "cell_type": "code",
   "execution_count": 6,
   "metadata": {
    "id": "-kFmGaleM1OG"
   },
   "outputs": [],
   "source": [
    "model.add(Conv2D(32, (3, 3), input_shape = (64, 64, 1), activation = 'relu'))\n",
    "model.add(MaxPooling2D(pool_size = (2, 2)))\n",
    "model.add(Conv2D(32, (3, 3), activation = 'relu'))\n",
    "model.add(MaxPooling2D(pool_size = (2, 2)))\n",
    "model.add(Flatten())\n",
    "\n",
    "model.add(Dense(units = 128, activation = 'relu'))\n",
    "model.add(Dense(units = 6, activation = 'softmax'))"
   ]
  },
  {
   "cell_type": "markdown",
   "metadata": {
    "id": "lKyezRsROMrS"
   },
   "source": [
    "## Model Overview"
   ]
  },
  {
   "cell_type": "code",
   "execution_count": 7,
   "metadata": {
    "colab": {
     "base_uri": "https://localhost:8080/"
    },
    "id": "OLASrgkTNsTj",
    "outputId": "5b83efbf-587c-424a-d86a-ea391bcfa37d"
   },
   "outputs": [
    {
     "name": "stdout",
     "output_type": "stream",
     "text": [
      "Model: \"sequential\"\n",
      "_________________________________________________________________\n",
      "Layer (type)                 Output Shape              Param #   \n",
      "=================================================================\n",
      "conv2d (Conv2D)              (None, 62, 62, 32)        320       \n",
      "_________________________________________________________________\n",
      "max_pooling2d (MaxPooling2D) (None, 31, 31, 32)        0         \n",
      "_________________________________________________________________\n",
      "conv2d_1 (Conv2D)            (None, 29, 29, 32)        9248      \n",
      "_________________________________________________________________\n",
      "max_pooling2d_1 (MaxPooling2 (None, 14, 14, 32)        0         \n",
      "_________________________________________________________________\n",
      "flatten (Flatten)            (None, 6272)              0         \n",
      "_________________________________________________________________\n",
      "dense (Dense)                (None, 128)               802944    \n",
      "_________________________________________________________________\n",
      "dense_1 (Dense)              (None, 6)                 774       \n",
      "=================================================================\n",
      "Total params: 813,286\n",
      "Trainable params: 813,286\n",
      "Non-trainable params: 0\n",
      "_________________________________________________________________\n"
     ]
    }
   ],
   "source": [
    "model.summary()"
   ]
  },
  {
   "cell_type": "markdown",
   "metadata": {
    "id": "bjvww4pjOPyD"
   },
   "source": [
    "## Compiling the Model"
   ]
  },
  {
   "cell_type": "code",
   "execution_count": 8,
   "metadata": {
    "id": "_XDGHZt1NtvQ"
   },
   "outputs": [],
   "source": [
    "model.compile(optimizer = 'adam', loss = 'categorical_crossentropy', metrics = ['accuracy'])"
   ]
  },
  {
   "cell_type": "markdown",
   "metadata": {
    "id": "SblWo03rOijE"
   },
   "source": [
    "## Training the Model"
   ]
  },
  {
   "cell_type": "code",
   "execution_count": 9,
   "metadata": {
    "colab": {
     "base_uri": "https://localhost:8080/"
    },
    "id": "YWFehjHPOhcw",
    "outputId": "c2319c2e-14af-426d-8bdb-0a35a0101a1e"
   },
   "outputs": [
    {
     "name": "stderr",
     "output_type": "stream",
     "text": [
      "2022-08-23 15:36:47.173504: I tensorflow/compiler/mlir/mlir_graph_optimization_pass.cc:176] None of the MLIR Optimization Passes are enabled (registered 2)\n",
      "2022-08-23 15:36:47.223263: I tensorflow/core/platform/profile_utils/cpu_utils.cc:114] CPU Frequency: 2095130000 Hz\n"
     ]
    },
    {
     "name": "stdout",
     "output_type": "stream",
     "text": [
      "Epoch 1/20\n",
      "  2/120 [..............................] - ETA: 10s - loss: 1.9411 - accuracy: 0.0000e+00 "
     ]
    },
    {
     "name": "stderr",
     "output_type": "stream",
     "text": [
      "2022-08-23 15:36:49.614882: W tensorflow/core/framework/cpu_allocator_impl.cc:80] Allocation of 28096128 exceeds 10% of free system memory.\n",
      "2022-08-23 15:36:49.725972: W tensorflow/core/framework/cpu_allocator_impl.cc:80] Allocation of 28096128 exceeds 10% of free system memory.\n"
     ]
    },
    {
     "name": "stdout",
     "output_type": "stream",
     "text": [
      "  4/120 [>.............................] - ETA: 11s - loss: 1.9366 - accuracy: 0.0500   "
     ]
    },
    {
     "name": "stderr",
     "output_type": "stream",
     "text": [
      "2022-08-23 15:36:49.824990: W tensorflow/core/framework/cpu_allocator_impl.cc:80] Allocation of 28096128 exceeds 10% of free system memory.\n",
      "2022-08-23 15:36:49.913621: W tensorflow/core/framework/cpu_allocator_impl.cc:80] Allocation of 28096128 exceeds 10% of free system memory.\n",
      "2022-08-23 15:36:50.015417: W tensorflow/core/framework/cpu_allocator_impl.cc:80] Allocation of 28096128 exceeds 10% of free system memory.\n"
     ]
    },
    {
     "name": "stdout",
     "output_type": "stream",
     "text": [
      "120/120 [==============================] - 11s 75ms/step - loss: 1.4339 - accuracy: 0.4017 - val_loss: 0.7383 - val_accuracy: 0.7667\n",
      "Epoch 2/20\n",
      "120/120 [==============================] - 9s 74ms/step - loss: 0.7019 - accuracy: 0.7017 - val_loss: 0.8225 - val_accuracy: 0.7667\n",
      "Epoch 3/20\n",
      "120/120 [==============================] - 10s 80ms/step - loss: 0.4692 - accuracy: 0.8067 - val_loss: 0.4544 - val_accuracy: 0.8667\n",
      "Epoch 4/20\n",
      "120/120 [==============================] - 9s 75ms/step - loss: 0.3599 - accuracy: 0.8633 - val_loss: 0.2653 - val_accuracy: 0.9333\n",
      "Epoch 5/20\n",
      "120/120 [==============================] - 9s 74ms/step - loss: 0.3078 - accuracy: 0.8850 - val_loss: 0.4511 - val_accuracy: 0.8667\n",
      "Epoch 6/20\n",
      "120/120 [==============================] - 10s 84ms/step - loss: 0.2373 - accuracy: 0.9083 - val_loss: 0.6899 - val_accuracy: 0.7667\n",
      "Epoch 7/20\n",
      "120/120 [==============================] - 10s 80ms/step - loss: 0.2096 - accuracy: 0.9250 - val_loss: 0.3264 - val_accuracy: 0.9000\n",
      "Epoch 8/20\n",
      "120/120 [==============================] - 8s 69ms/step - loss: 0.2124 - accuracy: 0.9183 - val_loss: 0.3686 - val_accuracy: 0.9000\n",
      "Epoch 9/20\n",
      "120/120 [==============================] - 9s 74ms/step - loss: 0.1129 - accuracy: 0.9567 - val_loss: 0.5813 - val_accuracy: 0.8000\n",
      "Epoch 10/20\n",
      "120/120 [==============================] - 10s 81ms/step - loss: 0.1346 - accuracy: 0.9517 - val_loss: 0.0796 - val_accuracy: 0.9667\n",
      "Epoch 11/20\n",
      "120/120 [==============================] - 9s 73ms/step - loss: 0.1098 - accuracy: 0.9617 - val_loss: 0.3318 - val_accuracy: 0.9333\n",
      "Epoch 12/20\n",
      "120/120 [==============================] - 9s 75ms/step - loss: 0.0828 - accuracy: 0.9683 - val_loss: 0.3479 - val_accuracy: 0.9667\n",
      "Epoch 13/20\n",
      "120/120 [==============================] - 11s 94ms/step - loss: 0.0769 - accuracy: 0.9683 - val_loss: 0.2297 - val_accuracy: 0.9667\n",
      "Epoch 14/20\n",
      "120/120 [==============================] - 13s 111ms/step - loss: 0.0923 - accuracy: 0.9700 - val_loss: 0.3009 - val_accuracy: 0.9333\n",
      "Epoch 15/20\n",
      "120/120 [==============================] - 12s 99ms/step - loss: 0.0999 - accuracy: 0.9617 - val_loss: 0.4111 - val_accuracy: 0.9667\n",
      "Epoch 16/20\n",
      "120/120 [==============================] - 10s 86ms/step - loss: 0.0833 - accuracy: 0.9683 - val_loss: 0.2055 - val_accuracy: 0.9667\n",
      "Epoch 17/20\n",
      "120/120 [==============================] - 8s 68ms/step - loss: 0.0463 - accuracy: 0.9800 - val_loss: 0.1498 - val_accuracy: 0.9667\n",
      "Epoch 18/20\n",
      "120/120 [==============================] - 7s 61ms/step - loss: 0.0825 - accuracy: 0.9667 - val_loss: 0.0982 - val_accuracy: 0.9667\n",
      "Epoch 19/20\n",
      "120/120 [==============================] - 8s 64ms/step - loss: 0.0374 - accuracy: 0.9883 - val_loss: 0.6197 - val_accuracy: 0.8667\n",
      "Epoch 20/20\n",
      "120/120 [==============================] - 9s 71ms/step - loss: 0.0501 - accuracy: 0.9800 - val_loss: 0.2974 - val_accuracy: 0.9667\n"
     ]
    },
    {
     "data": {
      "text/plain": [
       "<tensorflow.python.keras.callbacks.History at 0x7f2976e7cdc0>"
      ]
     },
     "execution_count": 9,
     "metadata": {},
     "output_type": "execute_result"
    }
   ],
   "source": [
    "model.fit(\n",
    "    trainInputImage,\n",
    "    steps_per_epoch = len(trainInputImage),\n",
    "    epochs = 20,\n",
    "    validation_data = testInputImage,\n",
    "    validation_steps = len(testInputImage)\n",
    ")"
   ]
  },
  {
   "cell_type": "markdown",
   "metadata": {
    "id": "FJWmGL_yPhXg"
   },
   "source": [
    "## Saving the Model"
   ]
  },
  {
   "cell_type": "code",
   "execution_count": 10,
   "metadata": {
    "id": "6R3WDAYBPBam"
   },
   "outputs": [],
   "source": [
    "model.save('Models/HandGestureModel3.h5')\n",
    "# modelJSON = model.to_json()\n",
    "# with open(\"Models/HandGestureModelJSON2.json\", \"w\") as json:\n",
    "#   json.write(modelJSON)"
   ]
  },
  {
   "cell_type": "code",
   "execution_count": null,
   "metadata": {},
   "outputs": [],
   "source": []
  }
 ],
 "metadata": {
  "colab": {
   "collapsed_sections": [],
   "name": "HandGestureRecognition.ipynb",
   "provenance": []
  },
  "kernelspec": {
   "display_name": "Python 3 (ipykernel)",
   "language": "python",
   "name": "python3"
  },
  "language_info": {
   "codemirror_mode": {
    "name": "ipython",
    "version": 3
   },
   "file_extension": ".py",
   "mimetype": "text/x-python",
   "name": "python",
   "nbconvert_exporter": "python",
   "pygments_lexer": "ipython3",
   "version": "3.9.13"
  }
 },
 "nbformat": 4,
 "nbformat_minor": 1
}
